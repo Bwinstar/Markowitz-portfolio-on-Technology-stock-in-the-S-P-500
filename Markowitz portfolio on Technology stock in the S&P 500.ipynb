{
 "cells": [
  {
   "cell_type": "markdown",
   "id": "e018da29",
   "metadata": {},
   "source": [
    "## Sample Project: Build a portfolio using Markowitz's modern portfolio theory\n",
    "\n",
    "## Language: Python\n",
    "## Asset: Technology Stocks in the S&P 500\n",
    "## Notebook: Jupyter or Google Colab\n"
   ]
  },
  {
   "cell_type": "markdown",
   "id": "a1b5271e",
   "metadata": {},
   "source": [
    "### IMPORTING LIBRARIES"
   ]
  },
  {
   "cell_type": "code",
   "execution_count": 1,
   "id": "07891162",
   "metadata": {},
   "outputs": [],
   "source": [
    "import numpy as np\n",
    "import pandas as pd\n",
    "import yfinance as yf\n",
    "from scipy.optimize import minimize"
   ]
  },
  {
   "cell_type": "markdown",
   "id": "0ae70645",
   "metadata": {},
   "source": [
    "##### technology Stock - Google owner alphabet,Amazon,Micrsoft,Apple"
   ]
  },
  {
   "cell_type": "code",
   "execution_count": 24,
   "id": "cae7efc4",
   "metadata": {},
   "outputs": [],
   "source": [
    "# Define the list of technology stocks in your portfolio\n",
    "tech_stocks = ['AAPL', 'MSFT', 'GOOGL', 'AMZN']"
   ]
  },
  {
   "cell_type": "code",
   "execution_count": 7,
   "id": "56ecc2d4",
   "metadata": {},
   "outputs": [],
   "source": [
    "# Set the start and end date for historical data\n",
    "start_date = '2022-01-01'\n",
    "end_date = '2023-06-30'\n"
   ]
  },
  {
   "cell_type": "markdown",
   "id": "9e9deb13",
   "metadata": {},
   "source": [
    "##### obtaining historical stock price data for the technology stock in the S&P 500......... using APIs like YAHOO FINANCE Or Libraries like YFINANCE to fetch the Data"
   ]
  },
  {
   "cell_type": "code",
   "execution_count": 26,
   "id": "31e58216",
   "metadata": {},
   "outputs": [
    {
     "name": "stdout",
     "output_type": "stream",
     "text": [
      "[*********************100%%**********************]  4 of 4 completed\n"
     ]
    }
   ],
   "source": [
    "# Fetch historical data for the selected stocks\n",
    "data = yf.download(tech_stocks, start=start_date, end=end_date)['Adj Close']\n"
   ]
  },
  {
   "cell_type": "code",
   "execution_count": 9,
   "id": "01037f9b",
   "metadata": {},
   "outputs": [
    {
     "data": {
      "text/html": [
       "<div>\n",
       "<style scoped>\n",
       "    .dataframe tbody tr th:only-of-type {\n",
       "        vertical-align: middle;\n",
       "    }\n",
       "\n",
       "    .dataframe tbody tr th {\n",
       "        vertical-align: top;\n",
       "    }\n",
       "\n",
       "    .dataframe thead th {\n",
       "        text-align: right;\n",
       "    }\n",
       "</style>\n",
       "<table border=\"1\" class=\"dataframe\">\n",
       "  <thead>\n",
       "    <tr style=\"text-align: right;\">\n",
       "      <th></th>\n",
       "      <th>AAPL</th>\n",
       "      <th>AMZN</th>\n",
       "      <th>GOOGL</th>\n",
       "      <th>MSFT</th>\n",
       "    </tr>\n",
       "    <tr>\n",
       "      <th>Date</th>\n",
       "      <th></th>\n",
       "      <th></th>\n",
       "      <th></th>\n",
       "      <th></th>\n",
       "    </tr>\n",
       "  </thead>\n",
       "  <tbody>\n",
       "    <tr>\n",
       "      <th>2022-01-03</th>\n",
       "      <td>180.190964</td>\n",
       "      <td>170.404495</td>\n",
       "      <td>144.991501</td>\n",
       "      <td>329.394867</td>\n",
       "    </tr>\n",
       "    <tr>\n",
       "      <th>2022-01-04</th>\n",
       "      <td>177.904053</td>\n",
       "      <td>167.522003</td>\n",
       "      <td>144.399506</td>\n",
       "      <td>323.746704</td>\n",
       "    </tr>\n",
       "    <tr>\n",
       "      <th>2022-01-05</th>\n",
       "      <td>173.171814</td>\n",
       "      <td>164.356995</td>\n",
       "      <td>137.774994</td>\n",
       "      <td>311.318756</td>\n",
       "    </tr>\n",
       "    <tr>\n",
       "      <th>2022-01-06</th>\n",
       "      <td>170.281021</td>\n",
       "      <td>163.253998</td>\n",
       "      <td>137.747498</td>\n",
       "      <td>308.858765</td>\n",
       "    </tr>\n",
       "    <tr>\n",
       "      <th>2022-01-07</th>\n",
       "      <td>170.449295</td>\n",
       "      <td>162.554001</td>\n",
       "      <td>137.016998</td>\n",
       "      <td>309.016205</td>\n",
       "    </tr>\n",
       "    <tr>\n",
       "      <th>...</th>\n",
       "      <td>...</td>\n",
       "      <td>...</td>\n",
       "      <td>...</td>\n",
       "      <td>...</td>\n",
       "    </tr>\n",
       "    <tr>\n",
       "      <th>2023-06-23</th>\n",
       "      <td>186.428238</td>\n",
       "      <td>129.330002</td>\n",
       "      <td>122.339996</td>\n",
       "      <td>334.312164</td>\n",
       "    </tr>\n",
       "    <tr>\n",
       "      <th>2023-06-26</th>\n",
       "      <td>185.020157</td>\n",
       "      <td>127.330002</td>\n",
       "      <td>118.339996</td>\n",
       "      <td>327.905762</td>\n",
       "    </tr>\n",
       "    <tr>\n",
       "      <th>2023-06-27</th>\n",
       "      <td>187.806381</td>\n",
       "      <td>129.179993</td>\n",
       "      <td>118.330002</td>\n",
       "      <td>333.863159</td>\n",
       "    </tr>\n",
       "    <tr>\n",
       "      <th>2023-06-28</th>\n",
       "      <td>188.994781</td>\n",
       "      <td>129.039993</td>\n",
       "      <td>120.180000</td>\n",
       "      <td>335.140442</td>\n",
       "    </tr>\n",
       "    <tr>\n",
       "      <th>2023-06-29</th>\n",
       "      <td>189.334320</td>\n",
       "      <td>127.900002</td>\n",
       "      <td>119.099998</td>\n",
       "      <td>334.342102</td>\n",
       "    </tr>\n",
       "  </tbody>\n",
       "</table>\n",
       "<p>374 rows × 4 columns</p>\n",
       "</div>"
      ],
      "text/plain": [
       "                  AAPL        AMZN       GOOGL        MSFT\n",
       "Date                                                      \n",
       "2022-01-03  180.190964  170.404495  144.991501  329.394867\n",
       "2022-01-04  177.904053  167.522003  144.399506  323.746704\n",
       "2022-01-05  173.171814  164.356995  137.774994  311.318756\n",
       "2022-01-06  170.281021  163.253998  137.747498  308.858765\n",
       "2022-01-07  170.449295  162.554001  137.016998  309.016205\n",
       "...                ...         ...         ...         ...\n",
       "2023-06-23  186.428238  129.330002  122.339996  334.312164\n",
       "2023-06-26  185.020157  127.330002  118.339996  327.905762\n",
       "2023-06-27  187.806381  129.179993  118.330002  333.863159\n",
       "2023-06-28  188.994781  129.039993  120.180000  335.140442\n",
       "2023-06-29  189.334320  127.900002  119.099998  334.342102\n",
       "\n",
       "[374 rows x 4 columns]"
      ]
     },
     "execution_count": 9,
     "metadata": {},
     "output_type": "execute_result"
    }
   ],
   "source": [
    "data"
   ]
  },
  {
   "cell_type": "code",
   "execution_count": 10,
   "id": "16dcab84",
   "metadata": {},
   "outputs": [
    {
     "data": {
      "text/plain": [
       "AAPL     0\n",
       "AMZN     0\n",
       "GOOGL    0\n",
       "MSFT     0\n",
       "dtype: int64"
      ]
     },
     "execution_count": 10,
     "metadata": {},
     "output_type": "execute_result"
    }
   ],
   "source": [
    "data.isnull().sum()"
   ]
  },
  {
   "cell_type": "code",
   "execution_count": 12,
   "id": "e35f6606",
   "metadata": {},
   "outputs": [],
   "source": [
    "# Calculate daily returns\n",
    "returns = data.pct_change().dropna()"
   ]
  },
  {
   "cell_type": "code",
   "execution_count": 13,
   "id": "0fae491f",
   "metadata": {},
   "outputs": [
    {
     "data": {
      "text/html": [
       "<div>\n",
       "<style scoped>\n",
       "    .dataframe tbody tr th:only-of-type {\n",
       "        vertical-align: middle;\n",
       "    }\n",
       "\n",
       "    .dataframe tbody tr th {\n",
       "        vertical-align: top;\n",
       "    }\n",
       "\n",
       "    .dataframe thead th {\n",
       "        text-align: right;\n",
       "    }\n",
       "</style>\n",
       "<table border=\"1\" class=\"dataframe\">\n",
       "  <thead>\n",
       "    <tr style=\"text-align: right;\">\n",
       "      <th></th>\n",
       "      <th>AAPL</th>\n",
       "      <th>AMZN</th>\n",
       "      <th>GOOGL</th>\n",
       "      <th>MSFT</th>\n",
       "    </tr>\n",
       "    <tr>\n",
       "      <th>Date</th>\n",
       "      <th></th>\n",
       "      <th></th>\n",
       "      <th></th>\n",
       "      <th></th>\n",
       "    </tr>\n",
       "  </thead>\n",
       "  <tbody>\n",
       "    <tr>\n",
       "      <th>2022-01-04</th>\n",
       "      <td>-0.012692</td>\n",
       "      <td>-0.016916</td>\n",
       "      <td>-0.004083</td>\n",
       "      <td>-0.017147</td>\n",
       "    </tr>\n",
       "    <tr>\n",
       "      <th>2022-01-05</th>\n",
       "      <td>-0.026600</td>\n",
       "      <td>-0.018893</td>\n",
       "      <td>-0.045876</td>\n",
       "      <td>-0.038388</td>\n",
       "    </tr>\n",
       "    <tr>\n",
       "      <th>2022-01-06</th>\n",
       "      <td>-0.016693</td>\n",
       "      <td>-0.006711</td>\n",
       "      <td>-0.000200</td>\n",
       "      <td>-0.007902</td>\n",
       "    </tr>\n",
       "    <tr>\n",
       "      <th>2022-01-07</th>\n",
       "      <td>0.000988</td>\n",
       "      <td>-0.004288</td>\n",
       "      <td>-0.005303</td>\n",
       "      <td>0.000510</td>\n",
       "    </tr>\n",
       "    <tr>\n",
       "      <th>2022-01-10</th>\n",
       "      <td>0.000116</td>\n",
       "      <td>-0.006570</td>\n",
       "      <td>0.012061</td>\n",
       "      <td>0.000732</td>\n",
       "    </tr>\n",
       "    <tr>\n",
       "      <th>...</th>\n",
       "      <td>...</td>\n",
       "      <td>...</td>\n",
       "      <td>...</td>\n",
       "      <td>...</td>\n",
       "    </tr>\n",
       "    <tr>\n",
       "      <th>2023-06-23</th>\n",
       "      <td>-0.001711</td>\n",
       "      <td>-0.006300</td>\n",
       "      <td>-0.006577</td>\n",
       "      <td>-0.013806</td>\n",
       "    </tr>\n",
       "    <tr>\n",
       "      <th>2023-06-26</th>\n",
       "      <td>-0.007553</td>\n",
       "      <td>-0.015464</td>\n",
       "      <td>-0.032696</td>\n",
       "      <td>-0.019163</td>\n",
       "    </tr>\n",
       "    <tr>\n",
       "      <th>2023-06-27</th>\n",
       "      <td>0.015059</td>\n",
       "      <td>0.014529</td>\n",
       "      <td>-0.000084</td>\n",
       "      <td>0.018168</td>\n",
       "    </tr>\n",
       "    <tr>\n",
       "      <th>2023-06-28</th>\n",
       "      <td>0.006328</td>\n",
       "      <td>-0.001084</td>\n",
       "      <td>0.015634</td>\n",
       "      <td>0.003826</td>\n",
       "    </tr>\n",
       "    <tr>\n",
       "      <th>2023-06-29</th>\n",
       "      <td>0.001797</td>\n",
       "      <td>-0.008834</td>\n",
       "      <td>-0.008987</td>\n",
       "      <td>-0.002382</td>\n",
       "    </tr>\n",
       "  </tbody>\n",
       "</table>\n",
       "<p>373 rows × 4 columns</p>\n",
       "</div>"
      ],
      "text/plain": [
       "                AAPL      AMZN     GOOGL      MSFT\n",
       "Date                                              \n",
       "2022-01-04 -0.012692 -0.016916 -0.004083 -0.017147\n",
       "2022-01-05 -0.026600 -0.018893 -0.045876 -0.038388\n",
       "2022-01-06 -0.016693 -0.006711 -0.000200 -0.007902\n",
       "2022-01-07  0.000988 -0.004288 -0.005303  0.000510\n",
       "2022-01-10  0.000116 -0.006570  0.012061  0.000732\n",
       "...              ...       ...       ...       ...\n",
       "2023-06-23 -0.001711 -0.006300 -0.006577 -0.013806\n",
       "2023-06-26 -0.007553 -0.015464 -0.032696 -0.019163\n",
       "2023-06-27  0.015059  0.014529 -0.000084  0.018168\n",
       "2023-06-28  0.006328 -0.001084  0.015634  0.003826\n",
       "2023-06-29  0.001797 -0.008834 -0.008987 -0.002382\n",
       "\n",
       "[373 rows x 4 columns]"
      ]
     },
     "execution_count": 13,
     "metadata": {},
     "output_type": "execute_result"
    }
   ],
   "source": [
    "returns"
   ]
  },
  {
   "cell_type": "code",
   "execution_count": 14,
   "id": "76529572",
   "metadata": {},
   "outputs": [],
   "source": [
    "# Calculate mean returns and covariance matrix\n",
    "mean_returns = returns.mean()\n",
    "cov_matrix = returns.cov()\n"
   ]
  },
  {
   "cell_type": "code",
   "execution_count": 15,
   "id": "3920e1e2",
   "metadata": {},
   "outputs": [],
   "source": [
    "# Define the objective function for portfolio optimization\n",
    "def objective(weights):\n",
    "    port_returns = np.sum(mean_returns * weights)\n",
    "    port_stddev = np.sqrt(np.dot(weights.T, np.dot(cov_matrix, weights)))\n",
    "    return -port_returns / port_stddev  # Negative Sharpe ratio for maximization"
   ]
  },
  {
   "cell_type": "code",
   "execution_count": 16,
   "id": "c8ac1b77",
   "metadata": {},
   "outputs": [],
   "source": [
    "# Set optimization constraints (e.g., sum of weights equals 1)\n",
    "constraints = ({'type': 'eq', 'fun': lambda weights: np.sum(weights) - 1})"
   ]
  },
  {
   "cell_type": "code",
   "execution_count": 17,
   "id": "b8974ce6",
   "metadata": {},
   "outputs": [],
   "source": [
    "# Set bounds for asset weights (0 to 1)\n",
    "bounds = tuple((0, 1) for _ in range(len(tech_stocks)))"
   ]
  },
  {
   "cell_type": "code",
   "execution_count": 20,
   "id": "0f8d84b3",
   "metadata": {},
   "outputs": [],
   "source": [
    "# Initial guess for asset weights\n",
    "initial_weights = len(tech_stocks) * [1.0 / len(tech_stocks)]\n"
   ]
  },
  {
   "cell_type": "code",
   "execution_count": 21,
   "id": "c2b2235f",
   "metadata": {},
   "outputs": [],
   "source": [
    "# Perform portfolio optimization to find optimal weights\n",
    "result = minimize(objective, initial_weights, method='SLSQP', bounds=bounds, constraints=constraints)"
   ]
  },
  {
   "cell_type": "code",
   "execution_count": 22,
   "id": "1c194d45",
   "metadata": {},
   "outputs": [
    {
     "name": "stdout",
     "output_type": "stream",
     "text": [
      "Optimal Portfolio Allocation:\n",
      "AAPL: 1.0000\n",
      "MSFT: 0.0000\n",
      "GOOGL: 0.0000\n",
      "AMZN: 0.0000\n"
     ]
    }
   ],
   "source": [
    "# Print the optimal portfolio allocation\n",
    "optimal_weights = result.x\n",
    "print(\"Optimal Portfolio Allocation:\")\n",
    "for stock, weight in zip(tech_stocks, optimal_weights):\n",
    "    print(f\"{stock}: {weight:.4f}\")"
   ]
  },
  {
   "cell_type": "code",
   "execution_count": 23,
   "id": "0ef72618",
   "metadata": {},
   "outputs": [
    {
     "name": "stdout",
     "output_type": "stream",
     "text": [
      "Expected Portfolio Return: 0.0003\n",
      "Portfolio Standard Deviation: 0.0200\n"
     ]
    }
   ],
   "source": [
    "# Calculate and print the expected portfolio return and risk\n",
    "expected_return = np.sum(mean_returns * optimal_weights)\n",
    "portfolio_stddev = np.sqrt(np.dot(optimal_weights.T, np.dot(cov_matrix, optimal_weights)))\n",
    "print(f\"Expected Portfolio Return: {expected_return:.4f}\")\n",
    "print(f\"Portfolio Standard Deviation: {portfolio_stddev:.4f}\")"
   ]
  },
  {
   "cell_type": "code",
   "execution_count": null,
   "id": "9f65d6b0",
   "metadata": {},
   "outputs": [],
   "source": []
  }
 ],
 "metadata": {
  "kernelspec": {
   "display_name": "Python 3 (ipykernel)",
   "language": "python",
   "name": "python3"
  },
  "language_info": {
   "codemirror_mode": {
    "name": "ipython",
    "version": 3
   },
   "file_extension": ".py",
   "mimetype": "text/x-python",
   "name": "python",
   "nbconvert_exporter": "python",
   "pygments_lexer": "ipython3",
   "version": "3.10.9"
  }
 },
 "nbformat": 4,
 "nbformat_minor": 5
}
